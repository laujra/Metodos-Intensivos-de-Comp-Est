{
  "metadata": {
    "language_info": {
      "codemirror_mode": {
        "name": "python",
        "version": 3
      },
      "file_extension": ".py",
      "mimetype": "text/x-python",
      "name": "python",
      "nbconvert_exporter": "python",
      "pygments_lexer": "ipython3",
      "version": "3.8"
    },
    "kernelspec": {
      "name": "python",
      "display_name": "Python (Pyodide)",
      "language": "python"
    }
  },
  "nbformat_minor": 4,
  "nbformat": 4,
  "cells": [
    {
      "cell_type": "markdown",
      "source": "### Ejercicio 4 - Clase Iterable",
      "metadata": {}
    },
    {
      "cell_type": "code",
      "source": "import pandas as pd",
      "metadata": {
        "trusted": true
      },
      "execution_count": 1,
      "outputs": []
    },
    {
      "cell_type": "code",
      "source": "df=pd.read_csv('Tarea.csv')",
      "metadata": {
        "trusted": true
      },
      "execution_count": 2,
      "outputs": []
    },
    {
      "cell_type": "code",
      "source": "df.head(3)",
      "metadata": {
        "trusted": true
      },
      "execution_count": 3,
      "outputs": [
        {
          "execution_count": 3,
          "output_type": "execute_result",
          "data": {
            "text/plain": "   N_Cuenta                 Nombre  Saldo_Actual Ult_Transac\n0     97410    Piedad Sotelo Arcos             0  11/14/2018\n1     19059    Anselmo Vara Bernal       1629570   8/25/2018\n2     29821  Inés Carlos-Rodriguez        216757   3/25/2019",
            "text/html": "<div>\n<style scoped>\n    .dataframe tbody tr th:only-of-type {\n        vertical-align: middle;\n    }\n\n    .dataframe tbody tr th {\n        vertical-align: top;\n    }\n\n    .dataframe thead th {\n        text-align: right;\n    }\n</style>\n<table border=\"1\" class=\"dataframe\">\n  <thead>\n    <tr style=\"text-align: right;\">\n      <th></th>\n      <th>N_Cuenta</th>\n      <th>Nombre</th>\n      <th>Saldo_Actual</th>\n      <th>Ult_Transac</th>\n    </tr>\n  </thead>\n  <tbody>\n    <tr>\n      <th>0</th>\n      <td>97410</td>\n      <td>Piedad Sotelo Arcos</td>\n      <td>0</td>\n      <td>11/14/2018</td>\n    </tr>\n    <tr>\n      <th>1</th>\n      <td>19059</td>\n      <td>Anselmo Vara Bernal</td>\n      <td>1629570</td>\n      <td>8/25/2018</td>\n    </tr>\n    <tr>\n      <th>2</th>\n      <td>29821</td>\n      <td>Inés Carlos-Rodriguez</td>\n      <td>216757</td>\n      <td>3/25/2019</td>\n    </tr>\n  </tbody>\n</table>\n</div>"
          },
          "metadata": {}
        }
      ]
    },
    {
      "cell_type": "code",
      "source": "marcapaginas = df.iterrows()\nprint(next(marcapaginas))\nprint(next(marcapaginas))\n",
      "metadata": {
        "trusted": true
      },
      "execution_count": 4,
      "outputs": [
        {
          "name": "stdout",
          "text": "(0, N_Cuenta                      97410\nNombre          Piedad Sotelo Arcos\nSaldo_Actual                      0\nUlt_Transac              11/14/2018\nName: 0, dtype: object)\n(1, N_Cuenta                      19059\nNombre          Anselmo Vara Bernal\nSaldo_Actual                1629570\nUlt_Transac               8/25/2018\nName: 1, dtype: object)\n",
          "output_type": "stream"
        }
      ]
    },
    {
      "cell_type": "code",
      "source": "from datetime import datetime\nimport csv\n\nclass CuentaBancaria:\n\n    \n    def __init__(self,  N_cuenta,Nombre, Saldo_Actual,Ult_Transac):\n        self.Nombre = Nombre\n        self.N_cuenta = N_cuenta\n        self.Ult_Transac=Ult_Transac\n        self.Saldo_Actual = Saldo_Actual\n         \n    @classmethod\n    def from_csv(cls, filepath):\n        with open(filepath, \"r\") as f:\n            df = pd.read_csv(f)\n            dfi=df.iterrows()\n            fila=next(dfi)[1]\n            N_Cuenta,Nombre,Saldo_Actual,Ult_Transac = fila\n            return cls(N_Cuenta,Nombre,Saldo_Actual,Ult_Transac)",
      "metadata": {
        "trusted": true
      },
      "execution_count": 5,
      "outputs": []
    },
    {
      "cell_type": "code",
      "source": "cuenta=CuentaBancaria.from_csv('Tarea.csv')",
      "metadata": {
        "trusted": true
      },
      "execution_count": 6,
      "outputs": []
    },
    {
      "cell_type": "code",
      "source": "print(cuenta.N_cuenta, cuenta.Nombre,cuenta.Saldo_Actual, cuenta.Ult_Transac)",
      "metadata": {
        "trusted": true
      },
      "execution_count": 7,
      "outputs": [
        {
          "name": "stdout",
          "text": "97410 Piedad Sotelo Arcos 0 11/14/2018\n",
          "output_type": "stream"
        }
      ]
    }
  ]
}