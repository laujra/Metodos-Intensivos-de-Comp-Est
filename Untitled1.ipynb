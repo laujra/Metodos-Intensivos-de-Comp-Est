{
  "metadata": {
    "language_info": {
      "codemirror_mode": {
        "name": "python",
        "version": 3
      },
      "file_extension": ".py",
      "mimetype": "text/x-python",
      "name": "python",
      "nbconvert_exporter": "python",
      "pygments_lexer": "ipython3",
      "version": "3.8"
    },
    "kernelspec": {
      "name": "python",
      "display_name": "Python (Pyodide)",
      "language": "python"
    }
  },
  "nbformat_minor": 4,
  "nbformat": 4,
  "cells": [
    {
      "cell_type": "markdown",
      "source": "# Tarea Python\n#### Laura Andrea Nieto Osorio",
      "metadata": {}
    },
    {
      "cell_type": "markdown",
      "source": "### Ejercicio 1\nDefina un diccionario de al menos 4 llaves de tal manera que esas llaves sean tuplas. Acceda a cada elemento. ¿Puede hacer lo mismo para una llave que sea definida como lista o diccionario?",
      "metadata": {}
    },
    {
      "cell_type": "code",
      "source": "dic = {(1,2,3): 'aaa', (5,6): 'bbb', ('a','b'):'cc' ,(False, 7):'dodo'}\ndic",
      "metadata": {
        "trusted": true
      },
      "execution_count": 3,
      "outputs": [
        {
          "execution_count": 3,
          "output_type": "execute_result",
          "data": {
            "text/plain": "{(1, 2, 3): 'aaa', (5, 6): 'bbb', ('a', 'b'): 'cc', (False, 7): 'dodo'}"
          },
          "metadata": {}
        }
      ]
    },
    {
      "cell_type": "code",
      "source": "dic[(1,2,3)]",
      "metadata": {
        "trusted": true
      },
      "execution_count": 6,
      "outputs": [
        {
          "execution_count": 6,
          "output_type": "execute_result",
          "data": {
            "text/plain": "'aaa'"
          },
          "metadata": {}
        }
      ]
    },
    {
      "cell_type": "code",
      "source": "dic2 = {[1,2,3]: 'aaa'}\ndic2",
      "metadata": {
        "trusted": true
      },
      "execution_count": 10,
      "outputs": [
        {
          "ename": "<class 'TypeError'>",
          "evalue": "unhashable type: 'list'",
          "traceback": [
            "\u001b[0;31m---------------------------------------------------------------------------\u001b[0m",
            "\u001b[0;31mTypeError\u001b[0m                                 Traceback (most recent call last)",
            "Input \u001b[0;32mIn [10]\u001b[0m, in \u001b[0;36m<cell line: 1>\u001b[0;34m()\u001b[0m\n\u001b[0;32m----> 1\u001b[0m dic2 \u001b[38;5;241m=\u001b[39m {[\u001b[38;5;241m1\u001b[39m,\u001b[38;5;241m2\u001b[39m,\u001b[38;5;241m3\u001b[39m]: \u001b[38;5;124m'\u001b[39m\u001b[38;5;124maaa\u001b[39m\u001b[38;5;124m'\u001b[39m}\n\u001b[1;32m      2\u001b[0m dic2\n",
            "\u001b[0;31mTypeError\u001b[0m: unhashable type: 'list'"
          ],
          "output_type": "error"
        }
      ]
    },
    {
      "cell_type": "code",
      "source": "dic3 = {{'Prueba':'Prueba'}: 'aaa'}\ndic3",
      "metadata": {
        "trusted": true
      },
      "execution_count": 11,
      "outputs": [
        {
          "ename": "<class 'TypeError'>",
          "evalue": "unhashable type: 'dict'",
          "traceback": [
            "\u001b[0;31m---------------------------------------------------------------------------\u001b[0m",
            "\u001b[0;31mTypeError\u001b[0m                                 Traceback (most recent call last)",
            "Input \u001b[0;32mIn [11]\u001b[0m, in \u001b[0;36m<cell line: 1>\u001b[0;34m()\u001b[0m\n\u001b[0;32m----> 1\u001b[0m dic3 \u001b[38;5;241m=\u001b[39m {{\u001b[38;5;124m'\u001b[39m\u001b[38;5;124mPrueba\u001b[39m\u001b[38;5;124m'\u001b[39m:\u001b[38;5;124m'\u001b[39m\u001b[38;5;124mPrueba\u001b[39m\u001b[38;5;124m'\u001b[39m}: \u001b[38;5;124m'\u001b[39m\u001b[38;5;124maaa\u001b[39m\u001b[38;5;124m'\u001b[39m}\n\u001b[1;32m      2\u001b[0m dic3\n",
            "\u001b[0;31mTypeError\u001b[0m: unhashable type: 'dict'"
          ],
          "output_type": "error"
        }
      ]
    },
    {
      "cell_type": "markdown",
      "source": "### RTA:\nNo es posible hacer lo mismo para una llave que sea definida como lista o diccionario",
      "metadata": {}
    },
    {
      "cell_type": "markdown",
      "source": "### Ejercicio 2\nInvestigue que significa unhashable. Busque la función hash() y úsela en este contexto.",
      "metadata": {}
    },
    {
      "cell_type": "markdown",
      "source": "La \"hashabilidad\" hace que un objeto sea utilizable como una clave de diccionario y un miembro de conjunto, porque estas estructuras de datos usan el valor hash internamente.  Ningún contenedor mutable (como listas o diccionarios) lo es.\n- En python unhashable significa que el objeto NO puede ser miembro de conjuntos para devolver un índice. Es decir, tienen una identidad/ id única.",
      "metadata": {}
    },
    {
      "cell_type": "code",
      "source": "# list are mutable\nlist_val = [1, 2, 3, 4, 5]\nprint(\"The list hash value is : \" + str(hash(list_val)))",
      "metadata": {
        "trusted": true
      },
      "execution_count": 13,
      "outputs": [
        {
          "ename": "<class 'TypeError'>",
          "evalue": "unhashable type: 'list'",
          "traceback": [
            "\u001b[0;31m---------------------------------------------------------------------------\u001b[0m",
            "\u001b[0;31mTypeError\u001b[0m                                 Traceback (most recent call last)",
            "Input \u001b[0;32mIn [13]\u001b[0m, in \u001b[0;36m<cell line: 3>\u001b[0;34m()\u001b[0m\n\u001b[1;32m      1\u001b[0m \u001b[38;5;66;03m# list are mutable\u001b[39;00m\n\u001b[1;32m      2\u001b[0m list_val \u001b[38;5;241m=\u001b[39m [\u001b[38;5;241m1\u001b[39m, \u001b[38;5;241m2\u001b[39m, \u001b[38;5;241m3\u001b[39m, \u001b[38;5;241m4\u001b[39m, \u001b[38;5;241m5\u001b[39m]\n\u001b[0;32m----> 3\u001b[0m \u001b[38;5;28mprint\u001b[39m(\u001b[38;5;124m\"\u001b[39m\u001b[38;5;124mThe list hash value is : \u001b[39m\u001b[38;5;124m\"\u001b[39m \u001b[38;5;241m+\u001b[39m \u001b[38;5;28mstr\u001b[39m(\u001b[38;5;28;43mhash\u001b[39;49m\u001b[43m(\u001b[49m\u001b[43mlist_val\u001b[49m\u001b[43m)\u001b[49m))\n",
            "\u001b[0;31mTypeError\u001b[0m: unhashable type: 'list'"
          ],
          "output_type": "error"
        }
      ]
    },
    {
      "cell_type": "code",
      "source": "print('Hash for tuple (1,2) is:', hash((1,2)))\n",
      "metadata": {
        "trusted": true
      },
      "execution_count": 15,
      "outputs": [
        {
          "name": "stdout",
          "text": "Hash for tuple (1,2) is: 994727857\n",
          "output_type": "stream"
        }
      ]
    },
    {
      "cell_type": "markdown",
      "source": "### Ejercicio 3\nURL datos: https://raw.githubusercontent.com/laujra/Metodos-Intensivos-de-Comp-Est/main/Tarea.csv?token=GHSAT0AAAAAABYL2H2QRGVT54IT6NXV6JNQYYUFPXA",
      "metadata": {}
    },
    {
      "cell_type": "markdown",
      "source": "### Ejercicio 4 - Clase Iterable",
      "metadata": {}
    },
    {
      "cell_type": "code",
      "source": "from datetime import datetime\nimport csv\n\nclass CuentaBancaria:\n\n    MIN_SALDO = -10_000\n    \n    def __init__(self, Nombre, N_cuenta, Saldo_Actual,Ult_Transac):\n        self.Nombre = Nombre\n        self.N_cuenta = N_cuenta\n        self.Ult_Transac=Ult_Transac\n        if Saldo_Actual < self.MIN_SALDO:\n            raise ValueError(\"¡Saldo muy pequeño!\")\n        else:\n            self.Saldo_Actual = Saldo_Actual\n    \n    @classmethod\n    def from_csv(cls, filepath):\n        with open(filepath, \"r\") as f:\n            fila = csv.reader(f).__next__()\n            N_Cuenta,Nombre,Saldo_Actual,Ult_Transac = fila\n            return cls(N_Cuenta,Nombre,Saldo_Actual,Ult_Transac)\n     ",
      "metadata": {
        "trusted": true
      },
      "execution_count": 23,
      "outputs": []
    },
    {
      "cell_type": "code",
      "source": "libro = ['página1', 'página2', 'página3', 'página4']\nmarcapaginas = iter(libro)\nprint(next(marcapaginas))\n",
      "metadata": {
        "trusted": true
      },
      "execution_count": 17,
      "outputs": [
        {
          "name": "stdout",
          "text": "página1\n",
          "output_type": "stream"
        }
      ]
    },
    {
      "cell_type": "code",
      "source": "print(next(marcapaginas))\nprint(next(marcapaginas))\nprint(next(marcapaginas))",
      "metadata": {
        "trusted": true
      },
      "execution_count": 19,
      "outputs": [
        {
          "ename": "<class 'StopIteration'>",
          "evalue": "",
          "traceback": [
            "\u001b[0;31m---------------------------------------------------------------------------\u001b[0m",
            "\u001b[0;31mStopIteration\u001b[0m                             Traceback (most recent call last)",
            "Input \u001b[0;32mIn [19]\u001b[0m, in \u001b[0;36m<cell line: 1>\u001b[0;34m()\u001b[0m\n\u001b[0;32m----> 1\u001b[0m \u001b[38;5;28mprint\u001b[39m(\u001b[38;5;28;43mnext\u001b[39;49m\u001b[43m(\u001b[49m\u001b[43mmarcapaginas\u001b[49m\u001b[43m)\u001b[49m)\n\u001b[1;32m      2\u001b[0m \u001b[38;5;28mprint\u001b[39m(\u001b[38;5;28mnext\u001b[39m(marcapaginas))\n\u001b[1;32m      3\u001b[0m \u001b[38;5;28mprint\u001b[39m(\u001b[38;5;28mnext\u001b[39m(marcapaginas))\n",
            "\u001b[0;31mStopIteration\u001b[0m: "
          ],
          "output_type": "error"
        }
      ]
    }
  ]
}