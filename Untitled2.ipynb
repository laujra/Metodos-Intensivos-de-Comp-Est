{
  "metadata": {
    "language_info": {
      "codemirror_mode": {
        "name": "python",
        "version": 3
      },
      "file_extension": ".py",
      "mimetype": "text/x-python",
      "name": "python",
      "nbconvert_exporter": "python",
      "pygments_lexer": "ipython3",
      "version": "3.8"
    },
    "kernelspec": {
      "name": "python",
      "display_name": "Python (Pyodide)",
      "language": "python"
    }
  },
  "nbformat_minor": 4,
  "nbformat": 4,
  "cells": [
    {
      "cell_type": "code",
      "source": "from datetime import datetime\nimport csv\n\nclass CuentaBancaria:\n\n    MIN_SALDO = -10_000\n    \n    def __init__(self, Nombre, N_cuenta, Saldo_Actual,Ult_Transac):\n        self.Nombre = Nombre\n        self.N_cuenta = N_cuenta\n        self.Ult_Transac=Ult_Transac\n        if Saldo_Actual < self.MIN_SALDO:\n            raise ValueError(\"¡Saldo muy pequeño!\")\n        else:\n            self.Saldo_Actual = Saldo_Actual\n    \n    @classmethod\n    def from_csv(cls, filepath):\n        with open(filepath, \"r\") as f:\n            fila = csv.reader(f).__next__()\n            N_Cuenta,Nombre,Saldo_Actual,Ult_Transac = fila\n            return cls(N_Cuenta,Nombre,Saldo_Actual,Ult_Transac)\n     ",
      "metadata": {},
      "execution_count": null,
      "outputs": []
    },
    {
      "cell_type": "code",
      "source": "# usando el método de clase\npath = 'https://raw.githubusercontent.com/laujra/Metodos-Intensivos-de-Comp-Est/main/Tarea.csv'\nmi_cuenta = CuentaBancaria.from_csv(path)\nmi_cuenta",
      "metadata": {},
      "execution_count": null,
      "outputs": []
    }
  ]
}